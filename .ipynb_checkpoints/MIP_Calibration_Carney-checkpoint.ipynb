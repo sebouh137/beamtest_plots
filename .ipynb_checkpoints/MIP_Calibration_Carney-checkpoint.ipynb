{
 "cells": [
  {
   "cell_type": "markdown",
   "id": "d62c7d5f-9a72-4471-978e-a5e9871a3c1f",
   "metadata": {},
   "source": [
    "## CAEN Data Analysis Template ##"
   ]
  },
  {
   "cell_type": "markdown",
   "id": "e45fa638-522b-4cc0-a8d2-93de4ee17dd7",
   "metadata": {},
   "source": [
    "Importing our Packages"
   ]
  },
  {
   "cell_type": "code",
   "execution_count": null,
   "id": "d35d7d2f-573e-4146-89d5-006ddc8576f5",
   "metadata": {},
   "outputs": [],
   "source": [
    "import csv\n",
    "import numpy as np\n",
    "import math\n",
    "import scipy\n",
    "import mplhep as hep\n",
    "import matplotlib.pyplot as plt\n",
    "from scipy.optimize import curve_fit\n",
    "import pandas as pd\n",
    "import statistics\n",
    "\n",
    "plt.style.use(hep.style.ROOT)"
   ]
  },
  {
   "cell_type": "markdown",
   "id": "31429113-aa35-4cfd-9a9e-1e316eaec6da",
   "metadata": {},
   "source": [
    "Step 1: Using Random Noise Samples to Calibrate our Data. This is our trigger data. "
   ]
  },
  {
   "cell_type": "code",
   "execution_count": null,
   "id": "a6c2b122",
   "metadata": {},
   "outputs": [],
   "source": [
    "#We Are using PTRIG data Here\n",
    "with open('Run28_list.txt') as f:\n",
    "    lines = f.read().split('\\n')\n",
    "tags = None\n",
    "#Creating our array of channels\n",
    "channels = []\n",
    "#Our timestamp array\n",
    "timeStamps = []\n",
    "#Array mix to hold LG and HG data for each channel.\n",
    "din = {}\n",
    "\n",
    "for line in lines:\n",
    "    #Skipping over text in the beginning of data file\n",
    "    if line[:2]==\"//\" or len(line)==0:\n",
    "        continue\n",
    "    #First Line after Comments\n",
    "    if tags is None:\n",
    "        tags = line.split()\n",
    "        tags = tags[-3:]\n",
    "        continue;\n",
    "    split = line.split()\n",
    "    #Looping to the timestamp array\n",
    "    if(len(split) == 6):\n",
    "        timeStamps.append(float(split[0]))\n",
    "    channel, LG, HG = split[-3:]\n",
    "    #print(channel, LG, HG)\n",
    "    #creating the array of LG and HG data for each channel.\n",
    "    if channel not in channels:\n",
    "        din[f\"CH_{channel}_LG\"] = []\n",
    "        din[f\"CH_{channel}_HG\"] = []\n",
    "        channels.append(channel)\n",
    "    #print(channels)\n",
    "    din[f\"CH_{channel}_LG\"].append(float(LG))\n",
    "    din[f\"CH_{channel}_HG\"].append(float(HG))\n",
    "#putting it all into a Data frame.\n",
    "ptrigDF = pd.DataFrame(din)\n",
    "print(f\"Done! Total Events: {len(ptrigDF)}\")"
   ]
  },
  {
   "cell_type": "code",
   "execution_count": null,
   "id": "49d65c3c",
   "metadata": {},
   "outputs": [],
   "source": [
    "#ptrigDF = pd.read_pickle(r'./PTRIG_LG50_HG50_4k_R28.pkl')"
   ]
  },
  {
   "cell_type": "code",
   "execution_count": null,
   "id": "d5fc31a1-74cb-4081-b2aa-a248e3fb56c5",
   "metadata": {},
   "outputs": [],
   "source": [
    "tot_channels = round(len(ptrigDF.columns)/2)\n",
    "print(tot_channels)"
   ]
  },
  {
   "cell_type": "markdown",
   "id": "9aadf545-70f5-4d52-9421-31c1ad9f72cf",
   "metadata": {},
   "source": [
    "Plotting and Fitting the Data for each channel.\n",
    "From the Gaussian distribution we aim to get:\n",
    "- The standard deviation, $\\sigma$.\n",
    "- The mean value, $\\mu$"
   ]
  },
  {
   "cell_type": "code",
   "execution_count": null,
   "id": "c970f26b-f616-4247-af66-c12736c3cad3",
   "metadata": {},
   "outputs": [],
   "source": [
    "fig, axs = plt.subplots(10, 4, figsize=(16, 0.5*len(ptrigDF.columns)), sharey=True, sharex=True)\n",
    "i = 0\n",
    "pedMeans = []\n",
    "pedStds = []\n",
    "\n",
    "def gauss(x, *p):\n",
    "    A, mu, sigma = p\n",
    "    return A*np.exp(-(x-mu)**2/(2*sigma**2))\n",
    "\n",
    "for i in range(tot_channels):\n",
    "    plt.sca(axs[i//4][i%4])\n",
    "\n",
    "    hist, bin_edges = np.histogram(np.array(getattr(ptrigDF,\"CH_{}_LG\".format(\"{:02d}\".format(i)))), range=(40,80), bins=40)\n",
    "    bin_centers = (bin_edges[:-1] + bin_edges[1:])/2\n",
    "    #Getting our nice \n",
    "    p0 = [7000, 65, 10]\n",
    "    coeff, var_matrix = curve_fit(gauss, bin_centers, hist, p0=p0)\n",
    "    x = np.linspace(40, 80, 500)\n",
    "    hist_fit = gauss(x, *coeff)\n",
    "    plt.plot(x, hist_fit, label='$mean$ = %2.0f Chs, \\n$\\sigma=$%2.0f Chs'%(coeff[1], abs(coeff[2])))\n",
    "    plt.errorbar(bin_centers, y=hist, yerr=np.sqrt(hist), fmt='o')\n",
    "    \n",
    "    #Appending our standard deviation and pedistal mean. \n",
    "    pedMeans.append(coeff[1])\n",
    "    pedStds.append(abs(coeff[2]))\n",
    "    plt.legend(fontsize=10, loc=\"upper left\")\n",
    "    plt.xlabel(\"ADC Counts\", fontname=\"Times New Roman\", fontsize=18)\n",
    "    plt.ylabel(\"Counts\", fontname=\"Times New Roman\", fontsize=18)"
   ]
  },
  {
   "cell_type": "code",
   "execution_count": null,
   "id": "9bbe4135-bf55-4ad5-8aca-3a4f0b6b5f19",
   "metadata": {},
   "outputs": [],
   "source": [
    "print(pedMeans)\n",
    "print(pedStds)"
   ]
  },
  {
   "cell_type": "code",
   "execution_count": null,
   "id": "a7e3cb17",
   "metadata": {},
   "outputs": [],
   "source": [
    "fid = plt.figure( figsize=(8,6))\n",
    "plt.scatter(range(0,40), pedMeans)\n",
    "plt.xlabel('Channel')\n",
    "plt.ylabel(\"PedMeans vs. Channel\")\n",
    "plt.errorbar(range(0, 40), pedMeans, yerr=pedStds, fmt='o')"
   ]
  },
  {
   "cell_type": "code",
   "execution_count": null,
   "id": "1f114618-c12e-4ec8-9c4a-8894c446a32c",
   "metadata": {},
   "outputs": [],
   "source": [
    "with open('Run2_list.txt') as f:\n",
    "    lines = f.read().split('\\n')\n",
    "tag = None\n",
    "chnls = []\n",
    "timestamps = []\n",
    "din = {}\n",
    "for line in lines:\n",
    "    if line[:2]==\"//\" or len(line)==0:\n",
    "        continue\n",
    "    #First Line after Comments\n",
    "    if tag is None:\n",
    "        tag = line.split()\n",
    "        tag = tag[-3:]\n",
    "        continue;\n",
    "    split = line.split()\n",
    "    #print(split)\n",
    "    if(len(split) == 6):\n",
    "        timestamps.append(float(split[0]))\n",
    "    chnl, LG, HG = split[-3:]\n",
    "    #print(chnl, LG, HG)\n",
    "    if chnl not in chnls:\n",
    "        din[f\"Ch_{chnl}_LG\"] = []\n",
    "        din[f\"Ch_{chnl}_HG\"] = []\n",
    "        chnls.append(chnl)\n",
    "    #print(chnls)\n",
    "    din[f\"Ch_{chnl}_LG\"].append(float(LG))\n",
    "    din[f\"Ch_{chnl}_HG\"].append(float(HG))\n",
    "    #print(chnl)\n",
    "\n",
    "din[f\"timestamps\"] = []\n",
    "din[f\"timestamps\"] = timestamps\n",
    "cosmicDF = pd.DataFrame(din)\n",
    "print(f\"Done! Total Events: {len(cosmicDF)}\")"
   ]
  },
  {
   "cell_type": "code",
   "execution_count": null,
   "id": "cd9f98b8",
   "metadata": {},
   "outputs": [],
   "source": [
    "cosmicDF = pd.read_pickle(r'./COSMIC_LG50_HG63_4k_R35.pkl')"
   ]
  },
  {
   "cell_type": "code",
   "execution_count": null,
   "id": "b9115047-33b6-41bb-abfa-ae3ae234d242",
   "metadata": {},
   "outputs": [],
   "source": [
    "tot_chnls = round(len(cosmicDF.columns)/2)\n",
    "print(tot_chnls)"
   ]
  },
  {
   "cell_type": "code",
   "execution_count": null,
   "id": "9219ac78-2c82-428c-b282-233aa32f2885",
   "metadata": {},
   "outputs": [],
   "source": [
    "fig = plt.figure( figsize=(8,6))\n",
    "plt.rcParams['figure.facecolor']='white'\n",
    "plt.rcParams['savefig.facecolor']='white'\n",
    "minTime = np.min(getattr(cosmicDF, \"timestamps\"))\n",
    "maxTime = np.max(getattr(cosmicDF, \"timestamps\"))\n",
    "times = []\n",
    "for evtn in range(len(cosmicDF)):\n",
    "    times.append(getattr(cosmicDF, \"timestamps\")[evtn] - minTime)\n",
    "    \n",
    "hist, bin_edges = np.histogram(np.array(getattr(cosmicDF, \"timestamps\")), range=(minTime, maxTime), bins = round((maxTime - minTime) / 1e6))\n",
    "bin_centers = (bin_edges[:-1] + bin_edges[1:])/2\n",
    "\n",
    "plt.errorbar(bin_centers, y=hist, yerr=np.sqrt(hist), fmt='o')\n",
    "plt.xlim([3.65e9, maxTime])\n",
    "plt.xlabel(\"Time (ns)         \")\n",
    "plt.ylabel(\"Rate of Events (Hz)   \")\n",
    "#plt.ylim([0, 5])\n",
    "plt.savefig('Rate_of_Events_per_Timestamp.png')"
   ]
  },
  {
   "cell_type": "code",
   "execution_count": null,
   "id": "fb883d13-195e-4366-b426-776e0b0f65b2",
   "metadata": {},
   "outputs": [],
   "source": [
    "#timecut = cosmicDF[\"timestamps\"]\n",
    "cosmicDF = cosmicDF\n",
    "#print(cosmicDF)"
   ]
  },
  {
   "cell_type": "code",
   "execution_count": null,
   "id": "e5f51cb3-8fc7-41d1-a8dd-327aec2be1a7",
   "metadata": {},
   "outputs": [],
   "source": [
    "for i in range(tot_chnls):\n",
    "    pureCosmic = np.array(getattr(cosmicDF,\"Ch_{}_LG\".format(\"{:02d}\".format(i))))\n",
    "\n",
    "    def Over_Pedestal(n):\n",
    "        return n >= (pedMeans[i] + 3*pedStds[i])\n",
    "    \n",
    "    din[f\"Cosmic_{i}_\"] = list(filter(Over_Pedestal, pureCosmic))"
   ]
  },
  {
   "cell_type": "code",
   "execution_count": null,
   "id": "13f4aaa7-0d95-406b-811c-d8ef06eaa5be",
   "metadata": {},
   "outputs": [],
   "source": [
    "fig, axs = plt.subplots(10, 4, figsize=(16, 0.5*len(cosmicDF.columns)),  sharey=True, sharex=True)\n",
    "min = -20\n",
    "max = 160\n",
    "MIPs = []\n",
    "\n",
    "def landau(x, *p):\n",
    "    A, sigma, c = p\n",
    "    u = (x - c)*3.591/(sigma/2.355)\n",
    "    Aprime = 1.648*A\n",
    "    return Aprime*np.exp((-u)/2 - np.exp(-u)/2)\n",
    "\n",
    "for i in range(tot_chnls):\n",
    "    plt.sca(axs[i//4][i%4])\n",
    "    \n",
    "    subped = pedMeans[i]\n",
    "    \n",
    "    cosmic_data = np.array(din[f\"Cosmic_{i}_\"]) - pedMeans[i]\n",
    "    hist, bin_edges = np.histogram(cosmic_data, range=(min,max), bins=181)\n",
    "    bin_centers = (bin_edges[:-1] + bin_edges[1:])/2\n",
    "    \n",
    "    p0 = [np.max(hist), statistics.stdev(cosmic_data), statistics.mean(cosmic_data)]\n",
    "    \n",
    "    bounds = ([0.0, -np.inf, -np.inf], [np.inf, np.inf, np.inf])\n",
    "\n",
    "    coeff, var_matrix = curve_fit(landau, bin_centers, hist, p0=p0, maxfev = 2000, bounds=bounds)\n",
    "    \n",
    "    x = np.linspace(min , max , 181)\n",
    "    hist_fit = landau(x, *coeff)\n",
    "    plt.plot(x, hist_fit, label='$\\sigma$=%0.1f ADCs, \\n$mean =$%0.1f ACDs'%(coeff[1], abs(coeff[2])), markersize=10)\n",
    "    plt.errorbar(bin_centers, y=hist, yerr=np.sqrt(hist), fmt='o')\n",
    "    plt.legend(fontsize=12, loc=\"upper left\")\n",
    "    MIPs.append(coeff[1])\n",
    "    #plt.ylabel(\"Counts\")\n",
    "    #plt.yscale(\"log\")\n",
    "    #plt.scatter(x, hist)"
   ]
  },
  {
   "cell_type": "code",
   "execution_count": null,
   "id": "0dd475ac-9db4-4225-b460-4ef5ac261af7",
   "metadata": {},
   "outputs": [],
   "source": [
    "mean_array = []\n",
    "length = len(MIPs)\n",
    "\n",
    "for i in range(length):\n",
    "    mean_array.append(statistics.mean(MIPs))\n",
    "    \n",
    "plt.scatter(range(length), MIPs)\n",
    "plt.plot(range(length), mean_array)\n",
    "print(MIPs)"
   ]
  },
  {
   "cell_type": "code",
   "execution_count": null,
   "id": "2fca7071",
   "metadata": {},
   "outputs": [],
   "source": []
  }
 ],
 "metadata": {
  "kernelspec": {
   "display_name": "Python 3",
   "language": "python",
   "name": "python3"
  },
  "language_info": {
   "codemirror_mode": {
    "name": "ipython",
    "version": 3
   },
   "file_extension": ".py",
   "mimetype": "text/x-python",
   "name": "python",
   "nbconvert_exporter": "python",
   "pygments_lexer": "ipython3",
   "version": "3.7.6"
  }
 },
 "nbformat": 4,
 "nbformat_minor": 5
}
